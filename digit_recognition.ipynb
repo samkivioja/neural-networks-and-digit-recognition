{
 "cells": [
  {
   "cell_type": "code",
   "execution_count": 3,
   "id": "707dff8d-f7b2-4217-a0e8-08bbe2d8c623",
   "metadata": {},
   "outputs": [],
   "source": [
    "import numpy as np"
   ]
  },
  {
   "cell_type": "markdown",
   "id": "7047de05-e54a-4949-9897-28dd700e936c",
   "metadata": {},
   "source": [
    "## Functions"
   ]
  },
  {
   "cell_type": "code",
   "execution_count": 5,
   "id": "f039dc9c-36d3-4d70-b02f-5c6f8214cefc",
   "metadata": {},
   "outputs": [],
   "source": [
    "def sigmoid(z):\n",
    "    \"\"\" Sigmoid activation function.\"\"\"\n",
    "    return 1 / (1 + np.exp(-z))\n",
    "\n",
    "def sigmoid_prime(z):\n",
    "        \"\"\"Derivative of the sigmoid function.\"\"\"\n",
    "        return sigmoid(z) * (1 - sigmoid(z))\n",
    "\n",
    "def mse(y_pred, y):\n",
    "    \"\"\"Mean Squared Error (MSE) cost function.\"\"\"\n",
    "    return np.mean((y_pred - y) ** 2)\n",
    "\n",
    "def mse_prime(y_pred, y):\n",
    "    \"\"\"Derivative of the Mean Squared Error (MSE) cost function.\"\"\"\n",
    "    return 2 * (y_pred - y) / y.shape[1]\n",
    "    \n",
    "def softmax(z):\n",
    "    \"\"\"Softmax function: Converts input values into probabilities\"\"\" \n",
    "    exp_z = np.exp(z - np.max(z, axis=0, keepdims=True))\n",
    "    return exp_z / np.sum(exp_z, axis=0, keepdims=True)\n",
    "\n",
    "def softmax_prime(z):\n",
    "    \"\"\"Derivative of softmax\"\"\"\n",
    "    s = softmax(z)\n",
    "    return s * (1 - s)\n",
    "\n",
    "def relu(z):\n",
    "    \"\"\"ReLU activation function.\"\"\"\n",
    "    return np.maximum(0, z)\n",
    "\n",
    "def relu_prime(z):\n",
    "    \"\"\"Derivative of the ReLU function.\"\"\"\n",
    "    return (z > 0).astype(float)\n",
    "\n",
    "def leaky_relu(z, a=0.01):\n",
    "    \"\"\"Leaky ReLU activation function.\"\"\"\n",
    "    return np.maximum(a * z, z)\n",
    "\n",
    "def leaky_relu_prime(z, a=0.01):\n",
    "    \"\"\"Derivative of the Leaky ReLU function.\"\"\"\n",
    "    dz = np.ones_like(z)\n",
    "    dz[z <= 0] = a\n",
    "    return dz\n",
    "\n",
    "def cross_entropy(y_pred, y):\n",
    "    \"\"\"Cross-entropy loss function.\"\"\"\n",
    "    m = y.shape[1]\n",
    "    return -np.sum(y * np.log(y_pred + 1e-9)) / m\n",
    "\n",
    "def cross_entropy_prime(y_pred, y):\n",
    "    \"\"\"Derivative of the cross-entropy loss with respect to the softmax input.\"\"\"\n",
    "    return y_pred - y"
   ]
  },
  {
   "cell_type": "markdown",
   "id": "fa296df5-d6df-4f9c-8c0a-1a544e3b7fd2",
   "metadata": {},
   "source": [
    "## Neural network class"
   ]
  },
  {
   "cell_type": "code",
   "execution_count": 7,
   "id": "f8010935-e015-495d-bbcc-aaf53268c8a3",
   "metadata": {},
   "outputs": [],
   "source": [
    "import numpy as np\n",
    "\n",
    "class NeuralNetwork:\n",
    "    def __init__(self, layer_sizes, activations, cost):\n",
    "        \"\"\"\n",
    "        Initialize the neural network with random weights and biases.\n",
    "        \n",
    "        Args:\n",
    "            layer_sizes (list): List of integers specifying the number of neurons in each layer.\n",
    "                               Example: [input_size, hidden_size, ..., output_size]\n",
    "            activations (list): List of tuples (activation_func, activation_prime) for each layer after the input.\n",
    "            cost (tuple): Tuple (cost_func, cost_prime) for the cost function and its derivative.\n",
    "        \"\"\"\n",
    "        self.layer_sizes = layer_sizes\n",
    "        self.activations = activations  # Each element is a tuple (activation_func, activation_prime)\n",
    "        self.cost = cost  # Tuple (cost_func, cost_prime)\n",
    "        \n",
    "        # Validate input\n",
    "        if len(activations) != len(layer_sizes) - 1:\n",
    "            raise ValueError(\"Number of activations must match the number of layers (excluding input).\")\n",
    "        \n",
    "        # Initialize weights and biases\n",
    "        self.weights = [np.random.randn(y, x) for x, y in zip(layer_sizes[:-1], layer_sizes[1:])]\n",
    "        self.biases = [np.random.randn(y, 1) for y in layer_sizes[1:]]\n",
    "        \n",
    "        \n",
    "    def forward(self, X):\n",
    "        # Reshape input to a column vector\n",
    "        if X.ndim == 1:\n",
    "            X = X.reshape(-1, 1)\n",
    "        \n",
    "        self.a = [X]  # List to store activations for each layer\n",
    "        self.z = []   # List to store weighted inputs for each layer\n",
    "\n",
    "        for l, (w, b) in enumerate(zip(self.weights, self.biases)):\n",
    "            z = w @ self.a[-1] + b  # Weighted input\n",
    "            self.z.append(z)\n",
    "            \n",
    "            a_func = self.activations[l][0]\n",
    "            a = a_func(z)\n",
    "            self.a.append(a)\n",
    "        \n",
    "        return self.a[-1]\n",
    "        \n",
    "    \n",
    "    def backprop(self, y):\n",
    "        \"\"\"\n",
    "        Compute gradients using backpropagation.\n",
    "        \n",
    "        Args:\n",
    "            y: Target outputs of shape (output_size, batch_size).\n",
    "        \n",
    "        Returns:\n",
    "            Tuple (grad_w, grad_b) containing gradients for each layer.\n",
    "        \"\"\"\n",
    "        # Initialize gradient lists\n",
    "        grad_w = [np.zeros_like(w) for w in self.weights]\n",
    "        grad_b = [np.zeros_like(b) for b in self.biases]\n",
    "        \n",
    "        cost_prime = self.cost[1] # Dericative of the cost function\n",
    "        a_prime = self.activations[-1][1] # Activation function of the last layer\n",
    "        \n",
    "        # Compute output layer error (delta)\n",
    "        delta = cost_prime(self.a[-1], y) * a_prime(self.z[-1]) \n",
    "        # Store output layer gradients\n",
    "        grad_w[-1] = delta @ self.a[-2].T\n",
    "        grad_b[-1] = delta\n",
    "        \n",
    "        # Backpropagate through hidden layers\n",
    "        for l in reversed(range(len(self.weights) - 1)):\n",
    "            a_prime = self.activations[l][1]\n",
    "            # Calculate delta for current layer\n",
    "            delta = (self.weights[l+1].T @ delta) * a_prime(self.z[l])\n",
    "            # Compute gradients\n",
    "            grad_w[l] = delta @ self.a[l].T\n",
    "            grad_b[l] = delta\n",
    "        \n",
    "        return grad_w, grad_b\n",
    "        \n",
    "    \n",
    "    def update_parameters(self, grad_w, grad_b, eta, batch_size):\n",
    "        \"\"\"Update weights and biases using averaged gradients.\"\"\"\n",
    "        for l in range(len(self.weights)):\n",
    "            self.weights[l] -= eta * (grad_w[l] / batch_size)\n",
    "            self.biases[l] -= eta * (grad_b[l] / batch_size)\n",
    "            \n",
    "    \n",
    "    def train(self, x_train, y_train, epochs, batch_size, eta, results=False):\n",
    "        \"\"\"\n",
    "        Train the network using mini-batch SGD.\n",
    "        \n",
    "        Args:\n",
    "            x_train: Input data of shape (num_samples, input_size).\n",
    "            y_train: Target outputs of shape (num_samples, output_size).\n",
    "            epochs: Number of training epochs.\n",
    "            batch_size: Size of mini-batches.\n",
    "            eta: Learning rate.\n",
    "        \"\"\"\n",
    "        num_samples = len(x_train)\n",
    "        \n",
    "        for epoch in range(epochs):\n",
    "            # Shuffle data\n",
    "            indices = np.random.permutation(num_samples)\n",
    "            X_shuffled = [x_train[i] for i in indices]\n",
    "            y_shuffled = [y_train[i] for i in indices]\n",
    "\n",
    "            epoch_outputs = []\n",
    "            epoch_labels = []\n",
    "            \n",
    "            # Process mini-batches\n",
    "            for i in range(0, num_samples, batch_size):\n",
    "                # Get mini-batch\n",
    "                X_batch = X_shuffled[i:i+batch_size]\n",
    "                y_batch = y_shuffled[i:i+batch_size]\n",
    "\n",
    "                # Initialize gradient arrays\n",
    "                grad_w = [np.zeros_like(w) for w in self.weights]\n",
    "                grad_b = [np.zeros_like(b) for b in self.biases]\n",
    "                \n",
    "                # Accumulate gradients over batch\n",
    "                for x, y_true in zip(X_batch, y_batch):\n",
    "                    # Convert to column vectors\n",
    "                    x = x.reshape(-1, 1)\n",
    "                    y_true = y_true.reshape(-1, 1)\n",
    "\n",
    "                    # Forward + Backprop\n",
    "                    output = self.forward(x)\n",
    "                    batch_grad_w, batch_grad_b = self.backprop(y_true)\n",
    "\n",
    "                    if results:\n",
    "                        epoch_outputs.append(output.flatten())  # Save output\n",
    "                        epoch_labels.append(y_true.flatten())  # Save true label\n",
    "                    \n",
    "                    # Accumulate gradients\n",
    "                    for l in range(len(self.weights)):\n",
    "                        grad_w[l] += batch_grad_w[l]\n",
    "                        grad_b[l] += batch_grad_b[l]\n",
    "                \n",
    "                # Update parameters\n",
    "                self.update_parameters(grad_w, grad_b, eta, batch_size)\n",
    "                \n",
    "            \n",
    "            # Print epoch results\n",
    "            if results and epoch_outputs:\n",
    "                epoch_outputs = np.array(epoch_outputs)\n",
    "                epoch_labels = np.array(epoch_labels)\n",
    "                \n",
    "                loss = self.cost[0](epoch_outputs, epoch_labels)\n",
    "                # Calculate accuracy\n",
    "                predictions = np.argmax(epoch_outputs, axis=1)\n",
    "                true_labels = np.argmax(epoch_labels, axis=1)\n",
    "                accuracy = np.mean(predictions == true_labels)\n",
    "\n",
    "                # Print results\n",
    "                print(f\"Epoch {epoch+1}/{epochs}, Loss: {loss:.4f}, Accuracy: {accuracy * 100:.2f}%\")\n",
    "                "
   ]
  },
  {
   "cell_type": "markdown",
   "id": "a4cac0d1-6763-4feb-8724-0e3d7eae42f7",
   "metadata": {},
   "source": [
    "## Training"
   ]
  },
  {
   "cell_type": "markdown",
   "id": "afa12506-f9ef-4559-a5e7-1fe11a1ec8ee",
   "metadata": {},
   "source": [
    "### Load MNIST dataset and seperate test and train data"
   ]
  },
  {
   "cell_type": "code",
   "execution_count": 10,
   "id": "bc624376-83d0-42b2-b2de-ae421fef2e11",
   "metadata": {},
   "outputs": [],
   "source": [
    "import tensorflow as tf\n",
    "from tensorflow.keras.datasets import mnist\n",
    "\n",
    "# Load MNIST dataset\n",
    "(x_train, y_train), (x_test, y_test) = mnist.load_data()\n",
    "\n",
    "# Normalize the data to the range [0, 1]\n",
    "x_train = x_train / 255.0\n",
    "x_test = x_test / 255.0\n",
    "\n",
    "# Flatten the images (28x28 -> 784)\n",
    "x_train = x_train.reshape(-1, 28*28)\n",
    "x_test = x_test.reshape(-1, 28*28)\n",
    "\n",
    "# Convert labels to one-hot encoding\n",
    "y_train = tf.keras.utils.to_categorical(y_train, 10)\n",
    "y_test = tf.keras.utils.to_categorical(y_test, 10)"
   ]
  },
  {
   "cell_type": "markdown",
   "id": "e3610630-a499-452b-8607-9bc33bea1070",
   "metadata": {},
   "source": [
    "### Initialize neural network and train it"
   ]
  },
  {
   "cell_type": "code",
   "execution_count": 12,
   "id": "6a456832-b1d1-4af2-ae16-66aa998a2128",
   "metadata": {},
   "outputs": [
    {
     "name": "stdout",
     "output_type": "stream",
     "text": [
      "Epoch 1/30, Loss: 2618.3984, Accuracy: 87.22%\n",
      "Epoch 2/30, Loss: 1262.4327, Accuracy: 94.16%\n",
      "Epoch 3/30, Loss: 957.7964, Accuracy: 95.62%\n",
      "Epoch 4/30, Loss: 783.9296, Accuracy: 96.48%\n",
      "Epoch 5/30, Loss: 674.2637, Accuracy: 97.02%\n",
      "Epoch 6/30, Loss: 584.2509, Accuracy: 97.51%\n",
      "Epoch 7/30, Loss: 518.9466, Accuracy: 97.77%\n",
      "Epoch 8/30, Loss: 466.9037, Accuracy: 98.03%\n",
      "Epoch 9/30, Loss: 423.9601, Accuracy: 98.20%\n",
      "Epoch 10/30, Loss: 382.9063, Accuracy: 98.45%\n",
      "Epoch 11/30, Loss: 356.9478, Accuracy: 98.61%\n",
      "Epoch 12/30, Loss: 331.1747, Accuracy: 98.72%\n",
      "Epoch 13/30, Loss: 312.0090, Accuracy: 98.84%\n",
      "Epoch 14/30, Loss: 287.1173, Accuracy: 98.95%\n",
      "Epoch 15/30, Loss: 268.6574, Accuracy: 99.05%\n",
      "Epoch 16/30, Loss: 253.2392, Accuracy: 99.10%\n",
      "Epoch 17/30, Loss: 239.8244, Accuracy: 99.19%\n",
      "Epoch 18/30, Loss: 223.4015, Accuracy: 99.25%\n",
      "Epoch 19/30, Loss: 217.2382, Accuracy: 99.29%\n",
      "Epoch 20/30, Loss: 210.1030, Accuracy: 99.33%\n",
      "Epoch 21/30, Loss: 191.6991, Accuracy: 99.43%\n",
      "Epoch 22/30, Loss: 189.8896, Accuracy: 99.40%\n",
      "Epoch 23/30, Loss: 181.9424, Accuracy: 99.43%\n",
      "Epoch 24/30, Loss: 188.5920, Accuracy: 99.37%\n",
      "Epoch 25/30, Loss: 171.1034, Accuracy: 99.47%\n",
      "Epoch 26/30, Loss: 161.3403, Accuracy: 99.52%\n",
      "Epoch 27/30, Loss: 163.4214, Accuracy: 99.52%\n",
      "Epoch 28/30, Loss: 152.5821, Accuracy: 99.56%\n",
      "Epoch 29/30, Loss: 164.2656, Accuracy: 99.49%\n",
      "Epoch 30/30, Loss: 149.1352, Accuracy: 99.59%\n"
     ]
    }
   ],
   "source": [
    "layer_sizes = [784, 128, 64, 10]\n",
    "activations = [\n",
    "        (relu, relu_prime), \n",
    "        (relu, relu_prime),\n",
    "        (softmax, softmax_prime)\n",
    "    ]\n",
    "cost = (cross_entropy, cross_entropy_prime)\n",
    "\n",
    "nn = NeuralNetwork(layer_sizes, activations, cost)\n",
    "\n",
    "# He initialization for ReLU\n",
    "nn.weights = [np.random.randn(y, x) * np.sqrt(2 / x) for x, y in zip(layer_sizes[:-1], layer_sizes[1:])]\n",
    "\n",
    "epochs = 30\n",
    "batch_size = 64\n",
    "eta = 0.5\n",
    "\n",
    "nn.train(x_train, y_train, epochs, batch_size, eta, results=True)"
   ]
  },
  {
   "cell_type": "markdown",
   "id": "ef610801-3465-4b97-b883-d80760056348",
   "metadata": {},
   "source": [
    "## Testing"
   ]
  },
  {
   "cell_type": "code",
   "execution_count": 14,
   "id": "6af64869-8f53-4a22-a9a1-f1baa6110b1b",
   "metadata": {},
   "outputs": [
    {
     "name": "stdout",
     "output_type": "stream",
     "text": [
      "Accuracy: 97.61% (9761/10000)\n",
      "\n",
      "Correctly Classified Examples:\n",
      "Network output: \n",
      "[0.00, 0.00, 0.00, 0.00, 0.00, 0.00, 0.00, 1.00, 0.00, 0.00]\n"
     ]
    },
    {
     "data": {
      "image/png": "[encoded data removed]",
      "text/plain": [
       "<Figure size 300x300 with 1 Axes>"
      ]
     },
     "metadata": {},
     "output_type": "display_data"
    },
    {
     "name": "stdout",
     "output_type": "stream",
     "text": [
      "\n",
      "Network output: \n",
      "[0.00, 0.00, 1.00, 0.00, 0.00, 0.00, 0.00, 0.00, 0.00, 0.00]\n"
     ]
    },
    {
     "data": {
      "image/png": "[encoded data removed]",
      "text/plain": [
       "<Figure size 300x300 with 1 Axes>"
      ]
     },
     "metadata": {},
     "output_type": "display_data"
    },
    {
     "name": "stdout",
     "output_type": "stream",
     "text": [
      "\n",
      "Network output: \n",
      "[0.00, 1.00, 0.00, 0.00, 0.00, 0.00, 0.00, 0.00, 0.00, 0.00]\n"
     ]
    },
    {
     "data": {
      "image/png": "[encoded data removed]",
      "text/plain": [
       "<Figure size 300x300 with 1 Axes>"
      ]
     },
     "metadata": {},
     "output_type": "display_data"
    },
    {
     "name": "stdout",
     "output_type": "stream",
     "text": [
      "\n",
      "Network output: \n",
      "[1.00, 0.00, 0.00, 0.00, 0.00, 0.00, 0.00, 0.00, 0.00, 0.00]\n"
     ]
    },
    {
     "data": {
      "image/png": "[encoded data removed]",
      "text/plain": [
       "<Figure size 300x300 with 1 Axes>"
      ]
     },
     "metadata": {},
     "output_type": "display_data"
    },
    {
     "name": "stdout",
     "output_type": "stream",
     "text": [
      "\n",
      "Network output: \n",
      "[0.00, 0.00, 0.00, 0.00, 1.00, 0.00, 0.00, 0.00, 0.00, 0.00]\n"
     ]
    },
    {
     "data": {
      "image/png": "[encoded data removed]",
      "text/plain": [
       "<Figure size 300x300 with 1 Axes>"
      ]
     },
     "metadata": {},
     "output_type": "display_data"
    },
    {
     "name": "stdout",
     "output_type": "stream",
     "text": [
      "\n",
      "============================================================\n",
      "\n",
      "\n",
      "Misclassified Examples:\n",
      "Network output: \n",
      "[0.00, 0.34, 0.00, 0.00, 0.00, 0.00, 0.00, 0.00, 0.00, 0.66]\n"
     ]
    },
    {
     "data": {
      "image/png": "[encoded data removed]",
      "text/plain": [
       "<Figure size 300x300 with 1 Axes>"
      ]
     },
     "metadata": {},
     "output_type": "display_data"
    },
    {
     "name": "stdout",
     "output_type": "stream",
     "text": [
      "\n",
      "Network output: \n",
      "[0.00, 0.00, 0.00, 0.00, 0.00, 0.58, 0.00, 0.00, 0.00, 0.42]\n"
     ]
    },
    {
     "data": {
      "image/png": "[encoded data removed]",
      "text/plain": [
       "<Figure size 300x300 with 1 Axes>"
      ]
     },
     "metadata": {},
     "output_type": "display_data"
    },
    {
     "name": "stdout",
     "output_type": "stream",
     "text": [
      "\n",
      "Network output: \n",
      "[0.00, 0.00, 0.00, 0.00, 0.03, 0.00, 0.00, 0.00, 0.00, 0.97]\n"
     ]
    },
    {
     "data": {
      "image/png": "[encoded data removed]",
      "text/plain": [
       "<Figure size 300x300 with 1 Axes>"
      ]
     },
     "metadata": {},
     "output_type": "display_data"
    },
    {
     "name": "stdout",
     "output_type": "stream",
     "text": [
      "\n",
      "Network output: \n",
      "[0.00, 0.01, 0.21, 0.11, 0.01, 0.03, 0.00, 0.00, 0.56, 0.08]\n"
     ]
    },
    {
     "data": {
      "image/png": "[encoded data removed]",
      "text/plain": [
       "<Figure size 300x300 with 1 Axes>"
      ]
     },
     "metadata": {},
     "output_type": "display_data"
    },
    {
     "name": "stdout",
     "output_type": "stream",
     "text": [
      "\n",
      "Network output: \n",
      "[0.00, 0.00, 1.00, 0.00, 0.00, 0.00, 0.00, 0.00, 0.00, 0.00]\n"
     ]
    },
    {
     "data": {
      "image/png": "[encoded data removed]",
      "text/plain": [
       "<Figure size 300x300 with 1 Axes>"
      ]
     },
     "metadata": {},
     "output_type": "display_data"
    },
    {
     "name": "stdout",
     "output_type": "stream",
     "text": [
      "\n",
      "Network output: \n",
      "[0.70, 0.00, 0.00, 0.00, 0.00, 0.00, 0.30, 0.00, 0.00, 0.00]\n"
     ]
    },
    {
     "data": {
      "image/png": "[encoded data removed]",
      "text/plain": [
       "<Figure size 300x300 with 1 Axes>"
      ]
     },
     "metadata": {},
     "output_type": "display_data"
    },
    {
     "name": "stdout",
     "output_type": "stream",
     "text": [
      "\n",
      "Network output: \n",
      "[0.00, 0.00, 0.00, 0.93, 0.00, 0.00, 0.00, 0.02, 0.00, 0.05]\n"
     ]
    },
    {
     "data": {
      "image/png": "[encoded data removed]",
      "text/plain": [
       "<Figure size 300x300 with 1 Axes>"
      ]
     },
     "metadata": {},
     "output_type": "display_data"
    },
    {
     "name": "stdout",
     "output_type": "stream",
     "text": [
      "\n",
      "Network output: \n",
      "[0.00, 0.00, 0.00, 0.00, 0.00, 0.00, 0.00, 1.00, 0.00, 0.00]\n"
     ]
    },
    {
     "data": {
      "image/png": "[encoded data removed]",
      "text/plain": [
       "<Figure size 300x300 with 1 Axes>"
      ]
     },
     "metadata": {},
     "output_type": "display_data"
    },
    {
     "name": "stdout",
     "output_type": "stream",
     "text": [
      "\n",
      "Network output: \n",
      "[0.00, 0.00, 0.00, 0.96, 0.00, 0.04, 0.00, 0.00, 0.00, 0.00]\n"
     ]
    },
    {
     "data": {
      "image/png": "[encoded data removed]",
      "text/plain": [
       "<Figure size 300x300 with 1 Axes>"
      ]
     },
     "metadata": {},
     "output_type": "display_data"
    },
    {
     "name": "stdout",
     "output_type": "stream",
     "text": [
      "\n",
      "Network output: \n",
      "[0.00, 0.00, 0.00, 0.03, 0.00, 0.00, 0.00, 0.97, 0.00, 0.00]\n"
     ]
    },
    {
     "data": {
      "image/png": "[encoded data removed]",
      "text/plain": [
       "<Figure size 300x300 with 1 Axes>"
      ]
     },
     "metadata": {},
     "output_type": "display_data"
    },
    {
     "name": "stdout",
     "output_type": "stream",
     "text": [
      "\n",
      "Network output: \n",
      "[1.00, 0.00, 0.00, 0.00, 0.00, 0.00, 0.00, 0.00, 0.00, 0.00]\n"
     ]
    },
    {
     "data": {
      "image/png": "[encoded data removed]",
      "text/plain": [
       "<Figure size 300x300 with 1 Axes>"
      ]
     },
     "metadata": {},
     "output_type": "display_data"
    },
    {
     "name": "stdout",
     "output_type": "stream",
     "text": [
      "\n",
      "Network output: \n",
      "[0.00, 0.00, 0.00, 0.00, 0.01, 0.00, 0.00, 0.00, 0.00, 0.98]\n"
     ]
    },
    {
     "data": {
      "image/png": "[encoded data removed]",
      "text/plain": [
       "<Figure size 300x300 with 1 Axes>"
      ]
     },
     "metadata": {},
     "output_type": "display_data"
    },
    {
     "name": "stdout",
     "output_type": "stream",
     "text": [
      "\n",
      "Network output: \n",
      "[0.79, 0.00, 0.20, 0.01, 0.00, 0.00, 0.00, 0.00, 0.00, 0.00]\n"
     ]
    },
    {
     "data": {
      "image/png": "[encoded data removed]",
      "text/plain": [
       "<Figure size 300x300 with 1 Axes>"
      ]
     },
     "metadata": {},
     "output_type": "display_data"
    },
    {
     "name": "stdout",
     "output_type": "stream",
     "text": [
      "\n",
      "Network output: \n",
      "[0.00, 0.00, 0.74, 0.01, 0.00, 0.00, 0.00, 0.00, 0.25, 0.00]\n"
     ]
    },
    {
     "data": {
      "image/png": "[encoded data removed]",
      "text/plain": [
       "<Figure size 300x300 with 1 Axes>"
      ]
     },
     "metadata": {},
     "output_type": "display_data"
    },
    {
     "name": "stdout",
     "output_type": "stream",
     "text": [
      "\n",
      "Network output: \n",
      "[0.00, 0.07, 0.00, 0.00, 0.00, 0.00, 0.00, 0.00, 0.93, 0.00]\n"
     ]
    },
    {
     "data": {
      "image/png": "[encoded data removed]",
      "text/plain": [
       "<Figure size 300x300 with 1 Axes>"
      ]
     },
     "metadata": {},
     "output_type": "display_data"
    },
    {
     "name": "stdout",
     "output_type": "stream",
     "text": [
      "\n",
      "Network output: \n",
      "[0.00, 0.93, 0.04, 0.00, 0.00, 0.00, 0.00, 0.03, 0.00, 0.00]\n"
     ]
    },
    {
     "data": {
      "image/png": "[encoded data removed]",
      "text/plain": [
       "<Figure size 300x300 with 1 Axes>"
      ]
     },
     "metadata": {},
     "output_type": "display_data"
    },
    {
     "name": "stdout",
     "output_type": "stream",
     "text": [
      "\n",
      "Network output: \n",
      "[0.00, 0.00, 0.00, 0.00, 1.00, 0.00, 0.00, 0.00, 0.00, 0.00]\n"
     ]
    },
    {
     "data": {
      "image/png": "[encoded data removed]",
      "text/plain": [
       "<Figure size 300x300 with 1 Axes>"
      ]
     },
     "metadata": {},
     "output_type": "display_data"
    },
    {
     "name": "stdout",
     "output_type": "stream",
     "text": [
      "\n",
      "Network output: \n",
      "[0.00, 0.00, 0.00, 0.00, 0.00, 0.19, 0.00, 0.00, 0.81, 0.00]\n"
     ]
    },
    {
     "data": {
      "image/png": "[encoded data removed]",
      "text/plain": [
       "<Figure size 300x300 with 1 Axes>"
      ]
     },
     "metadata": {},
     "output_type": "display_data"
    },
    {
     "name": "stdout",
     "output_type": "stream",
     "text": [
      "\n",
      "Network output: \n",
      "[0.00, 0.00, 0.00, 0.00, 0.11, 0.00, 0.00, 0.00, 0.00, 0.89]\n"
     ]
    },
    {
     "data": {
      "image/png": "[encoded data removed]",
      "text/plain": [
       "<Figure size 300x300 with 1 Axes>"
      ]
     },
     "metadata": {},
     "output_type": "display_data"
    },
    {
     "name": "stdout",
     "output_type": "stream",
     "text": [
      "\n",
      "Network output: \n",
      "[0.00, 0.00, 0.00, 0.00, 0.00, 0.00, 0.00, 0.00, 1.00, 0.00]\n"
     ]
    },
    {
     "data": {
      "image/png": "[encoded data removed]",
      "text/plain": [
       "<Figure size 300x300 with 1 Axes>"
      ]
     },
     "metadata": {},
     "output_type": "display_data"
    },
    {
     "name": "stdout",
     "output_type": "stream",
     "text": [
      "\n",
      "Network output: \n",
      "[0.00, 0.00, 0.00, 0.00, 0.14, 0.00, 0.00, 0.00, 0.00, 0.86]\n"
     ]
    },
    {
     "data": {
      "image/png": "[encoded data removed]",
      "text/plain": [
       "<Figure size 300x300 with 1 Axes>"
      ]
     },
     "metadata": {},
     "output_type": "display_data"
    },
    {
     "name": "stdout",
     "output_type": "stream",
     "text": [
      "\n",
      "Network output: \n",
      "[0.00, 0.00, 0.00, 0.00, 0.30, 0.00, 0.00, 0.00, 0.00, 0.70]\n"
     ]
    },
    {
     "data": {
      "image/png": "[encoded data removed]",
      "text/plain": [
       "<Figure size 300x300 with 1 Axes>"
      ]
     },
     "metadata": {},
     "output_type": "display_data"
    },
    {
     "name": "stdout",
     "output_type": "stream",
     "text": [
      "\n",
      "Network output: \n",
      "[0.00, 0.00, 0.00, 0.00, 0.00, 0.00, 0.00, 0.00, 0.99, 0.01]\n"
     ]
    },
    {
     "data": {
      "image/png": "[encoded data removed]",
      "text/plain": [
       "<Figure size 300x300 with 1 Axes>"
      ]
     },
     "metadata": {},
     "output_type": "display_data"
    },
    {
     "name": "stdout",
     "output_type": "stream",
     "text": [
      "\n",
      "Network output: \n",
      "[0.00, 0.00, 0.00, 0.81, 0.00, 0.00, 0.00, 0.00, 0.19, 0.00]\n"
     ]
    },
    {
     "data": {
      "image/png": "[encoded data removed]",
      "text/plain": [
       "<Figure size 300x300 with 1 Axes>"
      ]
     },
     "metadata": {},
     "output_type": "display_data"
    },
    {
     "name": "stdout",
     "output_type": "stream",
     "text": [
      "\n",
      "Network output: \n",
      "[0.00, 0.00, 0.00, 0.00, 0.00, 0.00, 0.00, 0.93, 0.00, 0.07]\n"
     ]
    },
    {
     "data": {
      "image/png": "[encoded data removed]",
      "text/plain": [
       "<Figure size 300x300 with 1 Axes>"
      ]
     },
     "metadata": {},
     "output_type": "display_data"
    },
    {
     "name": "stdout",
     "output_type": "stream",
     "text": [
      "\n",
      "============================================================\n",
      "\n"
     ]
    }
   ],
   "source": [
    "import matplotlib.pyplot as plt\n",
    "\n",
    "def test_model(network, X_test, y_test, num_correct=5, num_false=5, show_examples=True):\n",
    "    # Convert labels and initialize storage\n",
    "    true_labels = np.argmax(y_test, axis=1)\n",
    "    correct, misclassified = [], []\n",
    "    all_outputs = []\n",
    "    \n",
    "    # Single pass through all test data\n",
    "    for i in range(len(X_test)):\n",
    "        x = X_test[i].reshape(-1, 1)  # Network expects column vector\n",
    "        output = network.forward(x).flatten()\n",
    "        pred = np.argmax(output)\n",
    "        actual = true_labels[i]\n",
    "        \n",
    "        # Store outputs and sort examples\n",
    "        all_outputs.append(output)\n",
    "        if pred == actual:\n",
    "            correct.append(i)\n",
    "        else:\n",
    "            misclassified.append(i)\n",
    "    \n",
    "    # Calculate and print accuracy\n",
    "    accuracy = len(correct) / len(X_test)\n",
    "    print(f\"Accuracy: {accuracy * 100:.2f}% ({len(correct)}/{len(X_test)})\")\n",
    "\n",
    "    if not show_examples:\n",
    "        return\n",
    "    \n",
    "    # Helper function to show examples\n",
    "    def show_examples(examples, title, num_examples):\n",
    "        print(f\"\\n{title}:\")\n",
    "        for i in examples[:num_examples]:\n",
    "            x = X_test[i]\n",
    "            output = all_outputs[i]\n",
    "            pred = np.argmax(output)\n",
    "            true = true_labels[i]\n",
    "\n",
    "            print(\"Network output: \")\n",
    "            print(f\"[{', '.join(f'{v:.2f}' for v in output)}]\")\n",
    "            plt.figure(figsize=(3, 3))\n",
    "            plt.imshow(x.reshape(28, 28), cmap='gray')\n",
    "            plt.title(f\"Pred: {pred}, True: {true}\")\n",
    "            plt.axis('off')\n",
    "            plt.show()\n",
    "            print()\n",
    "\n",
    "        print(\"=\" * 60)\n",
    "        print()\n",
    "    \n",
    "    # Show both correct and misclassified examples\n",
    "    if correct:\n",
    "        show_examples(correct, \"Correctly Classified Examples\", num_correct)\n",
    "    if misclassified:\n",
    "        show_examples(misclassified, \"Misclassified Examples\", num_false)\n",
    "        \n",
    "\n",
    "test_model(nn, x_test, y_test, num_correct=5, num_false=25)"
   ]
  }
 ],
 "metadata": {
  "kernelspec": {
   "display_name": "Python [conda env:base] *",
   "language": "python",
   "name": "conda-base-py"
  },
  "language_info": {
   "codemirror_mode": {
    "name": "ipython",
    "version": 3
   },
   "file_extension": ".py",
   "mimetype": "text/x-python",
   "name": "python",
   "nbconvert_exporter": "python",
   "pygments_lexer": "ipython3",
   "version": "3.12.7"
  }
 },
 "nbformat": 4,
 "nbformat_minor": 5
}
