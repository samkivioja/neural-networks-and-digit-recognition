{
 "cells": [
  {
   "cell_type": "code",
   "execution_count": 11,
   "id": "707dff8d-f7b2-4217-a0e8-08bbe2d8c623",
   "metadata": {},
   "outputs": [],
   "source": [
    "import numpy as np"
   ]
  },
  {
   "cell_type": "markdown",
   "id": "93974bea-b982-4326-b10c-aedd46650293",
   "metadata": {},
   "source": [
    "## Functions"
   ]
  },
  {
   "cell_type": "code",
   "execution_count": 13,
   "id": "0ad4027f-762c-4e07-9e06-2967954f445a",
   "metadata": {},
   "outputs": [],
   "source": [
    "def sigmoid(z):\n",
    "    \"\"\" Sigmoid activation function.\"\"\"\n",
    "    return 1 / (1 + np.exp(-z))\n",
    "\n",
    "def sigmoid_prime(z):\n",
    "        \"\"\"Derivative of the sigmoid function.\"\"\"\n",
    "        return sigmoid(z) * (1 - sigmoid(z))\n",
    "\n",
    "def mse(y_pred, y):\n",
    "    \"\"\"Mean Squared Error (MSE) cost function.\"\"\"\n",
    "    return np.mean((y_pred - y) ** 2)\n",
    "\n",
    "def mse_prime(y_pred, y):\n",
    "    \"\"\"Derivative of the Mean Squared Error (MSE) cost function.\"\"\"\n",
    "    return 2 * (y_pred - y) / y.shape[1]\n",
    "    \n",
    "def softmax(z):\n",
    "    exp_z = np.exp(z - np.max(z, axis=0, keepdims=True))\n",
    "    return exp_z / np.sum(exp_z, axis=0, keepdims=True)\n",
    "\n",
    "def softmax_prime(z):\n",
    "    s = softmax(z)\n",
    "    return s * (1 - s)"
   ]
  },
  {
   "cell_type": "markdown",
   "id": "fa296df5-d6df-4f9c-8c0a-1a544e3b7fd2",
   "metadata": {},
   "source": [
    "## Neural network class"
   ]
  },
  {
   "cell_type": "code",
   "execution_count": 46,
   "id": "f8010935-e015-495d-bbcc-aaf53268c8a3",
   "metadata": {},
   "outputs": [],
   "source": [
    "class NeuralNetwork:\n",
    "    def __init__(self, layer_sizes):\n",
    "        \"\"\"\n",
    "        Initialize the neural network with random weights and biases.\n",
    "        \n",
    "        Args:\n",
    "            layer_sizes (list): List of integers specifying the number of neurons in each layer.\n",
    "                               Example: [input_size, hidden_size, ..., output_size]\n",
    "        \"\"\"\n",
    "        self.layer_sizes = layer_sizes\n",
    "        self.num_layers = len(layer_sizes)\n",
    "        \n",
    "        # Initialize weights and biases\n",
    "        self.weights = [np.random.randn(y, x) for x, y in zip(layer_sizes[:-1], layer_sizes[1:])]\n",
    "        self.biases = [np.random.randn(y, 1) for y in layer_sizes[1:]]\n",
    "        \n",
    "\n",
    "    def forward(self, X):\n",
    "        # Reshape input to a column vector\n",
    "        if X.ndim == 1:\n",
    "            X = X.reshape(-1, 1)\n",
    "        \n",
    "        self.a = [X] # List to store activations for each layer\n",
    "        self.z = [] # List to store weighted inputs for each layer\n",
    "\n",
    "        for l, (w, b) in enumerate(zip(self.weights, self.biases)):\n",
    "            z = w @ self.a[-1] + b # Weighted input\n",
    "            self.z.append(z) \n",
    "\n",
    "            # Use softmax for last layer sigmoid for hidden layers\n",
    "            if l == len(self.biases) - 1: # Last layer (output)\n",
    "                a = softmax(z) # Softmax for output\n",
    "            else:\n",
    "                a = sigmoid(z) # Sigmoid for hidden\n",
    "            \n",
    "            self.a.append(a) # Activation\n",
    "\n",
    "        return self.a[-1] # Output of the network\n",
    "    \n",
    "\n",
    "    def backprop(self, y):\n",
    "        \"\"\"\n",
    "        Compute gradients using backpropagation.\n",
    "        \n",
    "        Args:\n",
    "            y: Target outputs of shape (output_size, batch_size).\n",
    "        \n",
    "        Returns:\n",
    "            Tuple (grad_w, grad_b) containing gradients for each layer.\n",
    "        \"\"\"\n",
    "        # Initialize gradient lists\n",
    "        grad_w = [np.zeros_like(w) for w in self.weights]\n",
    "        grad_b = [np.zeros_like(b) for b in self.biases]\n",
    "        \n",
    "        # Output layer error (delta_L)\n",
    "        delta = mse_prime(self.a[-1], y) * softmax_prime(self.z[-1])\n",
    "        # Store output layer gradients\n",
    "        grad_w[-1] = delta @ self.a[-2].T\n",
    "        grad_b[-1] = delta\n",
    "        \n",
    "        # Propagate error backward through hidden layers\n",
    "        for l in reversed(range(len(self.weights) - 1)):\n",
    "            # Calculate delta for current layer\n",
    "            delta = (self.weights[l + 1].T @ delta) * sigmoid_prime(self.z[l])\n",
    "            # Compute gradients\n",
    "            grad_w[l] = delta @ self.a[l].T\n",
    "            grad_b[l] = delta\n",
    "        \n",
    "        return grad_w, grad_b\n",
    "        \n",
    "\n",
    "    def update_parameters(self, grad_w, grad_b, eta, batch_size):\n",
    "        \"\"\"Update weights and biases using averaged gradients.\"\"\"\n",
    "        for l in range(len(self.weights)):\n",
    "            self.weights[l] -= eta  * (grad_w[l] / batch_size)\n",
    "            self.biases[l] -= eta * (grad_b[l] / batch_size)\n",
    "            \n",
    "\n",
    "    def train(self, x_train, y_train, epochs, batch_size, eta, results=False):\n",
    "        \"\"\"\n",
    "        Train the network using mini-batch SGD.\n",
    "        \n",
    "        Args:\n",
    "            x_train: Input data of shape (num_samples, input_size).\n",
    "            y_train: Target outputs of shape (num_samples, output_size).\n",
    "            epochs: Number of training epochs.\n",
    "            batch_size: Size of mini-batches.\n",
    "            eta: Learning rate.\n",
    "        \"\"\"\n",
    "        num_samples = len(x_train)\n",
    "        input_size = self.layer_sizes[0]\n",
    "        output_size = self.layer_sizes[-1]\n",
    "        \n",
    "        for epoch in range(epochs):\n",
    "            # Shuffle data\n",
    "            indices = np.random.permutation(num_samples)\n",
    "            X_shuffled = [x_train[i] for i in indices]\n",
    "            y_shuffled = [y_train[i] for i in indices]\n",
    "\n",
    "            # Initialize lists to store outputs and true labels\n",
    "            if results:\n",
    "                epoch_outputs = []\n",
    "                epoch_labels = []\n",
    "            \n",
    "            # Process mini-batches\n",
    "            for i in range(0, num_samples, batch_size):\n",
    "                # Get mini-batch\n",
    "                X_batch = X_shuffled[i:i+batch_size]\n",
    "                y_batch = y_shuffled[i:i+batch_size]\n",
    "                \n",
    "                # Initialize gradient arrays\n",
    "                grad_w = [np.zeros_like(w) for w in self.weights]\n",
    "                grad_b = [np.zeros_like(b) for b in self.biases]\n",
    "                \n",
    "                # Accumulate gradients over mini-batch\n",
    "                for x, y_true in zip(X_batch, y_batch):\n",
    "                    # Convert to column vectors\n",
    "                    x = x.reshape(-1, 1)\n",
    "                    y_true = y_true.reshape(-1, 1)\n",
    "\n",
    "                    # Forward + Backprop\n",
    "                    output = self.forward(x)\n",
    "                    batch_grad_w, batch_grad_b = self.backprop(y_true)\n",
    "\n",
    "                    if results:\n",
    "                        epoch_outputs.append(output.flatten())  # Save output\n",
    "                        epoch_labels.append(y_true.flatten())  # Save true label\n",
    "                    \n",
    "                    # Add to total gradients\n",
    "                    for l in range(len(self.weights)):\n",
    "                        grad_w[l] += batch_grad_w[l]\n",
    "                        grad_b[l] += batch_grad_b[l]\n",
    "                \n",
    "                # Update parameters (gradients are averaged here)\n",
    "                self.update_parameters(grad_w, grad_b, eta, batch_size)\n",
    "\n",
    "            \n",
    "            # Optional: Print progress\n",
    "            if results: \n",
    "                epoch_outputs = np.array(epoch_outputs)\n",
    "                epoch_labels = np.array(epoch_labels)\n",
    "    \n",
    "                loss = mse(epoch_outputs, epoch_labels)\n",
    "    \n",
    "                # Calculate accuracy\n",
    "                predictions = np.argmax(epoch_outputs, axis=1)\n",
    "                true_labels = np.argmax(epoch_labels, axis=1)\n",
    "                accuracy = np.mean(predictions == true_labels)\n",
    "    \n",
    "                # Print progress\n",
    "                print(f\"Epoch: {epoch + 1}/{epochs}, Loss: {loss:.4f}, Accuracy: {accuracy * 100:.2f}%\")\n"
   ]
  },
  {
   "cell_type": "markdown",
   "id": "a4cac0d1-6763-4feb-8724-0e3d7eae42f7",
   "metadata": {},
   "source": [
    "## Training"
   ]
  },
  {
   "cell_type": "code",
   "execution_count": 17,
   "id": "bc624376-83d0-42b2-b2de-ae421fef2e11",
   "metadata": {},
   "outputs": [],
   "source": [
    "import tensorflow as tf\n",
    "from tensorflow.keras.datasets import mnist\n",
    "\n",
    "# Load MNIST dataset\n",
    "(x_train, y_train), (x_test, y_test) = mnist.load_data()\n",
    "\n",
    "# Normalize the data to the range [0, 1]\n",
    "x_train = x_train / 255.0\n",
    "x_test = x_test / 255.0\n",
    "\n",
    "# Flatten the images (28x28 -> 784)\n",
    "x_train = x_train.reshape(-1, 28*28)\n",
    "x_test = x_test.reshape(-1, 28*28)\n",
    "\n",
    "# Convert labels to one-hot encoding\n",
    "y_train = tf.keras.utils.to_categorical(y_train, 10)\n",
    "y_test = tf.keras.utils.to_categorical(y_test, 10)"
   ]
  },
  {
   "cell_type": "code",
   "execution_count": 48,
   "id": "6a456832-b1d1-4af2-ae16-66aa998a2128",
   "metadata": {},
   "outputs": [
    {
     "name": "stdout",
     "output_type": "stream",
     "text": [
      "Epoch: 1/30, Loss: 0.0552, Accuracy: 57.16%\n",
      "Epoch: 2/30, Loss: 0.0266, Accuracy: 81.59%\n",
      "Epoch: 3/30, Loss: 0.0203, Accuracy: 86.26%\n",
      "Epoch: 4/30, Loss: 0.0171, Accuracy: 88.59%\n",
      "Epoch: 5/30, Loss: 0.0151, Accuracy: 90.03%\n",
      "Epoch: 6/30, Loss: 0.0137, Accuracy: 90.96%\n",
      "Epoch: 7/30, Loss: 0.0127, Accuracy: 91.72%\n",
      "Epoch: 8/30, Loss: 0.0118, Accuracy: 92.36%\n",
      "Epoch: 9/30, Loss: 0.0111, Accuracy: 92.83%\n",
      "Epoch: 10/30, Loss: 0.0105, Accuracy: 93.25%\n",
      "Epoch: 11/30, Loss: 0.0099, Accuracy: 93.66%\n",
      "Epoch: 12/30, Loss: 0.0094, Accuracy: 94.00%\n",
      "Epoch: 13/30, Loss: 0.0090, Accuracy: 94.33%\n",
      "Epoch: 14/30, Loss: 0.0086, Accuracy: 94.59%\n",
      "Epoch: 15/30, Loss: 0.0083, Accuracy: 94.85%\n",
      "Epoch: 16/30, Loss: 0.0079, Accuracy: 95.05%\n",
      "Epoch: 17/30, Loss: 0.0076, Accuracy: 95.29%\n",
      "Epoch: 18/30, Loss: 0.0073, Accuracy: 95.49%\n",
      "Epoch: 19/30, Loss: 0.0071, Accuracy: 95.67%\n",
      "Epoch: 20/30, Loss: 0.0069, Accuracy: 95.80%\n",
      "Epoch: 21/30, Loss: 0.0066, Accuracy: 95.94%\n",
      "Epoch: 22/30, Loss: 0.0065, Accuracy: 96.11%\n",
      "Epoch: 23/30, Loss: 0.0062, Accuracy: 96.23%\n",
      "Epoch: 24/30, Loss: 0.0061, Accuracy: 96.34%\n",
      "Epoch: 25/30, Loss: 0.0059, Accuracy: 96.48%\n",
      "Epoch: 26/30, Loss: 0.0057, Accuracy: 96.60%\n",
      "Epoch: 27/30, Loss: 0.0056, Accuracy: 96.68%\n",
      "Epoch: 28/30, Loss: 0.0054, Accuracy: 96.76%\n",
      "Epoch: 29/30, Loss: 0.0053, Accuracy: 96.90%\n",
      "Epoch: 30/30, Loss: 0.0052, Accuracy: 96.96%\n"
     ]
    }
   ],
   "source": [
    "layer_sizes = [784, 128, 64, 10]\n",
    "nn = NeuralNetwork(layer_sizes)\n",
    "\n",
    "epochs = 30\n",
    "batch_size = 64\n",
    "eta = 0.8\n",
    "\n",
    "nn.train(x_train, y_train, epochs, batch_size, eta, results=True)"
   ]
  },
  {
   "cell_type": "markdown",
   "id": "ef610801-3465-4b97-b883-d80760056348",
   "metadata": {},
   "source": [
    "## Testing"
   ]
  },
  {
   "cell_type": "code",
   "execution_count": 50,
   "id": "6af64869-8f53-4a22-a9a1-f1baa6110b1b",
   "metadata": {},
   "outputs": [
    {
     "name": "stdout",
     "output_type": "stream",
     "text": [
      "Test Accuracy: 93.88%\n",
      "Correct: 9388/10000\n",
      "\n",
      "Misclassified Examples:\n",
      "Network outputs: \n",
      "[0.00, 0.00, 0.00, 0.00, 0.19, 0.00, 0.80, 0.00, 0.00, 0.00]\n"
     ]
    },
    {
     "data": {
      "image/png": "[encoded data removed]",
      "text/plain": [
       "<Figure size 300x300 with 1 Axes>"
      ]
     },
     "metadata": {},
     "output_type": "display_data"
    },
    {
     "name": "stdout",
     "output_type": "stream",
     "text": [
      "\n",
      "Network outputs: \n",
      "[0.00, 0.00, 0.00, 0.01, 0.00, 0.00, 0.00, 0.00, 0.99, 0.00]\n"
     ]
    },
    {
     "data": {
      "image/png": "[encoded data removed]",
      "text/plain": [
       "<Figure size 300x300 with 1 Axes>"
      ]
     },
     "metadata": {},
     "output_type": "display_data"
    },
    {
     "name": "stdout",
     "output_type": "stream",
     "text": [
      "\n",
      "Network outputs: \n",
      "[0.04, 0.00, 0.00, 0.00, 0.34, 0.00, 0.62, 0.00, 0.00, 0.00]\n"
     ]
    },
    {
     "data": {
      "image/png": "[encoded data removed]",
      "text/plain": [
       "<Figure size 300x300 with 1 Axes>"
      ]
     },
     "metadata": {},
     "output_type": "display_data"
    },
    {
     "name": "stdout",
     "output_type": "stream",
     "text": [
      "\n",
      "Network outputs: \n",
      "[0.00, 0.00, 0.74, 0.00, 0.00, 0.00, 0.00, 0.00, 0.25, 0.00]\n"
     ]
    },
    {
     "data": {
      "image/png": "[encoded data removed]",
      "text/plain": [
       "<Figure size 300x300 with 1 Axes>"
      ]
     },
     "metadata": {},
     "output_type": "display_data"
    },
    {
     "name": "stdout",
     "output_type": "stream",
     "text": [
      "\n",
      "Network outputs: \n",
      "[0.00, 0.01, 0.00, 0.00, 0.00, 0.00, 0.00, 0.54, 0.01, 0.44]\n"
     ]
    },
    {
     "data": {
      "image/png": "[encoded data removed]",
      "text/plain": [
       "<Figure size 300x300 with 1 Axes>"
      ]
     },
     "metadata": {},
     "output_type": "display_data"
    },
    {
     "name": "stdout",
     "output_type": "stream",
     "text": [
      "\n",
      "Network outputs: \n",
      "[0.00, 0.02, 0.40, 0.01, 0.00, 0.05, 0.00, 0.00, 0.51, 0.02]\n"
     ]
    },
    {
     "data": {
      "image/png": "[encoded data removed]",
      "text/plain": [
       "<Figure size 300x300 with 1 Axes>"
      ]
     },
     "metadata": {},
     "output_type": "display_data"
    },
    {
     "name": "stdout",
     "output_type": "stream",
     "text": [
      "\n",
      "Network outputs: \n",
      "[0.32, 0.00, 0.02, 0.19, 0.00, 0.43, 0.00, 0.04, 0.00, 0.00]\n"
     ]
    },
    {
     "data": {
      "image/png": "[encoded data removed]",
      "text/plain": [
       "<Figure size 300x300 with 1 Axes>"
      ]
     },
     "metadata": {},
     "output_type": "display_data"
    },
    {
     "name": "stdout",
     "output_type": "stream",
     "text": [
      "\n",
      "Network outputs: \n",
      "[0.00, 0.00, 0.03, 0.00, 0.15, 0.00, 0.00, 0.02, 0.00, 0.78]\n"
     ]
    },
    {
     "data": {
      "image/png": "[encoded data removed]",
      "text/plain": [
       "<Figure size 300x300 with 1 Axes>"
      ]
     },
     "metadata": {},
     "output_type": "display_data"
    },
    {
     "name": "stdout",
     "output_type": "stream",
     "text": [
      "\n",
      "Network outputs: \n",
      "[0.03, 0.01, 0.33, 0.09, 0.00, 0.07, 0.00, 0.10, 0.07, 0.32]\n"
     ]
    },
    {
     "data": {
      "image/png": "[encoded data removed]",
      "text/plain": [
       "<Figure size 300x300 with 1 Axes>"
      ]
     },
     "metadata": {},
     "output_type": "display_data"
    },
    {
     "name": "stdout",
     "output_type": "stream",
     "text": [
      "\n",
      "Network outputs: \n",
      "[0.00, 0.00, 0.00, 0.04, 0.00, 0.79, 0.00, 0.00, 0.00, 0.16]\n"
     ]
    },
    {
     "data": {
      "image/png": "[encoded data removed]",
      "text/plain": [
       "<Figure size 300x300 with 1 Axes>"
      ]
     },
     "metadata": {},
     "output_type": "display_data"
    },
    {
     "name": "stdout",
     "output_type": "stream",
     "text": [
      "\n",
      "Network outputs: \n",
      "[0.00, 0.00, 0.00, 0.00, 0.36, 0.00, 0.01, 0.03, 0.00, 0.59]\n"
     ]
    },
    {
     "data": {
      "image/png": "[encoded data removed]",
      "text/plain": [
       "<Figure size 300x300 with 1 Axes>"
      ]
     },
     "metadata": {},
     "output_type": "display_data"
    },
    {
     "name": "stdout",
     "output_type": "stream",
     "text": [
      "\n",
      "Network outputs: \n",
      "[0.03, 0.00, 0.00, 0.01, 0.00, 0.10, 0.00, 0.00, 0.84, 0.03]\n"
     ]
    },
    {
     "data": {
      "image/png": "[encoded data removed]",
      "text/plain": [
       "<Figure size 300x300 with 1 Axes>"
      ]
     },
     "metadata": {},
     "output_type": "display_data"
    },
    {
     "name": "stdout",
     "output_type": "stream",
     "text": [
      "\n",
      "Network outputs: \n",
      "[0.00, 0.00, 0.42, 0.00, 0.26, 0.00, 0.31, 0.00, 0.00, 0.00]\n"
     ]
    },
    {
     "data": {
      "image/png": "[encoded data removed]",
      "text/plain": [
       "<Figure size 300x300 with 1 Axes>"
      ]
     },
     "metadata": {},
     "output_type": "display_data"
    },
    {
     "name": "stdout",
     "output_type": "stream",
     "text": [
      "\n",
      "Network outputs: \n",
      "[1.00, 0.00, 0.00, 0.00, 0.00, 0.00, 0.00, 0.00, 0.00, 0.00]\n"
     ]
    },
    {
     "data": {
      "image/png": "[encoded data removed]",
      "text/plain": [
       "<Figure size 300x300 with 1 Axes>"
      ]
     },
     "metadata": {},
     "output_type": "display_data"
    },
    {
     "name": "stdout",
     "output_type": "stream",
     "text": [
      "\n",
      "Network outputs: \n",
      "[0.00, 0.04, 0.00, 0.00, 0.00, 0.03, 0.02, 0.01, 0.59, 0.31]\n"
     ]
    },
    {
     "data": {
      "image/png": "[encoded data removed]",
      "text/plain": [
       "<Figure size 300x300 with 1 Axes>"
      ]
     },
     "metadata": {},
     "output_type": "display_data"
    },
    {
     "name": "stdout",
     "output_type": "stream",
     "text": [
      "\n",
      "Network outputs: \n",
      "[0.00, 0.00, 0.00, 0.00, 0.06, 0.02, 0.00, 0.00, 0.91, 0.00]\n"
     ]
    },
    {
     "data": {
      "image/png": "[encoded data removed]",
      "text/plain": [
       "<Figure size 300x300 with 1 Axes>"
      ]
     },
     "metadata": {},
     "output_type": "display_data"
    },
    {
     "name": "stdout",
     "output_type": "stream",
     "text": [
      "\n",
      "Network outputs: \n",
      "[0.00, 0.07, 0.01, 0.03, 0.00, 0.00, 0.00, 0.74, 0.00, 0.15]\n"
     ]
    },
    {
     "data": {
      "image/png": "[encoded data removed]",
      "text/plain": [
       "<Figure size 300x300 with 1 Axes>"
      ]
     },
     "metadata": {},
     "output_type": "display_data"
    },
    {
     "name": "stdout",
     "output_type": "stream",
     "text": [
      "\n",
      "Network outputs: \n",
      "[0.00, 0.00, 0.30, 0.04, 0.00, 0.00, 0.00, 0.65, 0.01, 0.00]\n"
     ]
    },
    {
     "data": {
      "image/png": "[encoded data removed]",
      "text/plain": [
       "<Figure size 300x300 with 1 Axes>"
      ]
     },
     "metadata": {},
     "output_type": "display_data"
    },
    {
     "name": "stdout",
     "output_type": "stream",
     "text": [
      "\n",
      "Network outputs: \n",
      "[0.00, 0.01, 0.00, 0.49, 0.00, 0.00, 0.00, 0.00, 0.49, 0.00]\n"
     ]
    },
    {
     "data": {
      "image/png": "[encoded data removed]",
      "text/plain": [
       "<Figure size 300x300 with 1 Axes>"
      ]
     },
     "metadata": {},
     "output_type": "display_data"
    },
    {
     "name": "stdout",
     "output_type": "stream",
     "text": [
      "\n",
      "Network outputs: \n",
      "[0.00, 0.44, 0.06, 0.34, 0.00, 0.03, 0.10, 0.02, 0.00, 0.01]\n"
     ]
    },
    {
     "data": {
      "image/png": "[encoded data removed]",
      "text/plain": [
       "<Figure size 300x300 with 1 Axes>"
      ]
     },
     "metadata": {},
     "output_type": "display_data"
    },
    {
     "name": "stdout",
     "output_type": "stream",
     "text": [
      "\n",
      "Network outputs: \n",
      "[0.00, 0.00, 0.31, 0.12, 0.00, 0.01, 0.00, 0.47, 0.01, 0.08]\n"
     ]
    },
    {
     "data": {
      "image/png": "[encoded data removed]",
      "text/plain": [
       "<Figure size 300x300 with 1 Axes>"
      ]
     },
     "metadata": {},
     "output_type": "display_data"
    },
    {
     "name": "stdout",
     "output_type": "stream",
     "text": [
      "\n",
      "Network outputs: \n",
      "[0.00, 0.00, 0.00, 0.00, 0.34, 0.00, 0.00, 0.00, 0.00, 0.66]\n"
     ]
    },
    {
     "data": {
      "image/png": "[encoded data removed]",
      "text/plain": [
       "<Figure size 300x300 with 1 Axes>"
      ]
     },
     "metadata": {},
     "output_type": "display_data"
    },
    {
     "name": "stdout",
     "output_type": "stream",
     "text": [
      "\n",
      "Network outputs: \n",
      "[0.41, 0.00, 0.00, 0.00, 0.00, 0.58, 0.00, 0.00, 0.00, 0.00]\n"
     ]
    },
    {
     "data": {
      "image/png": "[encoded data removed]",
      "text/plain": [
       "<Figure size 300x300 with 1 Axes>"
      ]
     },
     "metadata": {},
     "output_type": "display_data"
    },
    {
     "name": "stdout",
     "output_type": "stream",
     "text": [
      "\n",
      "Network outputs: \n",
      "[0.00, 0.00, 0.03, 0.09, 0.00, 0.00, 0.00, 0.84, 0.00, 0.04]\n"
     ]
    },
    {
     "data": {
      "image/png": "[encoded data removed]",
      "text/plain": [
       "<Figure size 300x300 with 1 Axes>"
      ]
     },
     "metadata": {},
     "output_type": "display_data"
    },
    {
     "name": "stdout",
     "output_type": "stream",
     "text": [
      "\n",
      "Network outputs: \n",
      "[0.00, 0.00, 0.00, 0.00, 0.00, 0.91, 0.01, 0.00, 0.07, 0.00]\n"
     ]
    },
    {
     "data": {
      "image/png": "[encoded data removed]",
      "text/plain": [
       "<Figure size 300x300 with 1 Axes>"
      ]
     },
     "metadata": {},
     "output_type": "display_data"
    },
    {
     "name": "stdout",
     "output_type": "stream",
     "text": [
      "\n"
     ]
    }
   ],
   "source": [
    "import matplotlib.pyplot as plt\n",
    "\n",
    "def test_model(network, X_test, y_test, num_examples_to_show=5):\n",
    "    # Convert one-hot encoded labels to integers\n",
    "    true_labels = np.argmax(y_test, axis=1)\n",
    "    \n",
    "    # Initialize counters and storage\n",
    "    correct = 0\n",
    "    misclassified_indices = []\n",
    "    all_predictions = []\n",
    "    \n",
    "    # Test all examples\n",
    "    for i in range(len(X_test)):\n",
    "        x = X_test[i].reshape(-1, 1)  # Reshape to column vector\n",
    "        output = network.forward(x).flatten()\n",
    "        prediction = np.argmax(output)\n",
    "        actual = true_labels[i]\n",
    "        \n",
    "        all_predictions.append(prediction)\n",
    "        if prediction == actual:\n",
    "            correct += 1\n",
    "        else:\n",
    "            misclassified_indices.append(i)\n",
    "    \n",
    "    # Calculate accuracy\n",
    "    accuracy = correct / len(X_test)\n",
    "    print(f\"Test Accuracy: {accuracy * 100:.2f}%\")\n",
    "    print(f\"Correct: {correct}/{len(X_test)}\")\n",
    "    \n",
    "    # Show misclassified examples\n",
    "    print(\"\\nMisclassified Examples:\")\n",
    "    for i in misclassified_indices[:num_examples_to_show]:\n",
    "        x = X_test[i]\n",
    "        output = network.forward(x.reshape(-1, 1)).flatten()\n",
    "        prediction = np.argmax(output)\n",
    "        actual = true_labels[i]\n",
    "\n",
    "        print(f\"Network outputs: \")\n",
    "        print(f\"[{', '.join(f'{x:.2f}' for x in output)}]\")\n",
    "        \n",
    "        plt.figure(figsize=(3, 3))\n",
    "        plt.imshow(x.reshape(28, 28), cmap='gray')\n",
    "        plt.title(f\"Pred: {prediction}, Actual: {actual}\")\n",
    "        plt.axis('off')\n",
    "        plt.show()\n",
    "        \n",
    "        print()\n",
    "\n",
    "test_model(nn, x_test, y_test, num_examples_to_show=25)"
   ]
  }
 ],
 "metadata": {
  "kernelspec": {
   "display_name": "Python [conda env:base] *",
   "language": "python",
   "name": "conda-base-py"
  },
  "language_info": {
   "codemirror_mode": {
    "name": "ipython",
    "version": 3
   },
   "file_extension": ".py",
   "mimetype": "text/x-python",
   "name": "python",
   "nbconvert_exporter": "python",
   "pygments_lexer": "ipython3",
   "version": "3.12.7"
  }
 },
 "nbformat": 4,
 "nbformat_minor": 5
}
